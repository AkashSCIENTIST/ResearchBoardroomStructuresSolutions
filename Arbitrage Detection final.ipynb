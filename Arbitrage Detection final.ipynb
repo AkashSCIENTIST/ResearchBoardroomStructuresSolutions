{
  "nbformat": 4,
  "nbformat_minor": 0,
  "metadata": {
    "colab": {
      "provenance": []
    },
    "kernelspec": {
      "name": "python3",
      "display_name": "Python 3"
    },
    "language_info": {
      "name": "python"
    }
  },
  "cells": [
    {
      "cell_type": "markdown",
      "source": [
        "**Arbitrage Detection in a Barter-Based Trading System**"
      ],
      "metadata": {
        "id": "KVRZEdeSx0UW"
      }
    },
    {
      "cell_type": "markdown",
      "source": [
        "**Intuition**\n",
        "\n",
        "Here, Our task is to develp efficient algorithm algorithm to determine whether it is possible to exploit arbitrage opportunities within barter based trading system.\n",
        "\n",
        "Arbitrage, in this context, means finding a way to start with a single unit of a particular commodity (let's call it commodity 0) and convert it back into\n",
        "more than one unit of commodity 0 by following a sequence of exchanges.\n",
        "\n",
        "The Bellman-Ford algorithm is used which efficiently identifies arbitrage opportunities by iteratively checking and updating distances between all pairs of commodities in a barter system."
      ],
      "metadata": {
        "id": "5VsaYLlyyCdl"
      }
    },
    {
      "cell_type": "markdown",
      "source": [
        "**Progress and Actual Code**"
      ],
      "metadata": {
        "id": "FX1L0Mpd4jNC"
      }
    },
    {
      "cell_type": "code",
      "source": [
        "# Takes user input for the number of commodities and the exchange rates matrix.\n",
        "def get_exchange_rates():\n",
        "    n = int(input(\"Enter the number of commodities: \"))\n",
        "    graph = []\n",
        "\n",
        "    print(\"Enter the exchange rates matrix:\")\n",
        "    for _ in range(n):\n",
        "        row = list(map(float, input().split()))\n",
        "        graph.append(row)\n",
        "\n",
        "    return graph\n"
      ],
      "metadata": {
        "id": "2Okt0XJs0alu"
      },
      "execution_count": 8,
      "outputs": []
    },
    {
      "cell_type": "code",
      "source": [
        "def print_path(predecessors, start_cycle):\n",
        "    path = []\n",
        "    current = start_cycle\n",
        "    while current != -1 and current not in path:\n",
        "        path.insert(0, current)\n",
        "        current = predecessors[current]\n",
        "    path.insert(0, current)\n",
        "    print(\" -> \".join(map(str, path)))"
      ],
      "metadata": {
        "id": "ZFM4VfFyclIZ"
      },
      "execution_count": 9,
      "outputs": []
    },
    {
      "cell_type": "code",
      "source": [
        "# Detects arbitrage opportunities in a barter-based trading system represented by the exchange rates matrix.\n",
        "def detect_arbitrage(graph):\n",
        "    n = len(graph)\n",
        "    distances = [float('inf')] * n\n",
        "    predecessors = [-1] * n  # To store the predecessor of each vertex in the path\n",
        "    start_cycle = -1\n",
        "\n",
        "    for _ in range(n - 1):\n",
        "        for i in range(n):\n",
        "            for j in range(n):\n",
        "                if distances[j] > distances[i] + graph[i][j]:\n",
        "                    distances[j] = distances[i] + graph[i][j]\n",
        "                    predecessors[j] = i\n",
        "                    start_cycle = j\n",
        "\n",
        "    for i in range(n):\n",
        "        for j in range(n):\n",
        "            if distances[j] > distances[i] + graph[i][j]:\n",
        "                # Negative cycle found, print the path\n",
        "                print(\"Arbitrage Opportunity Path:\")\n",
        "                print_path(predecessors, j)\n",
        "                return True\n",
        "\n",
        "    return False"
      ],
      "metadata": {
        "id": "nBwY8X4C0W9X"
      },
      "execution_count": 10,
      "outputs": []
    },
    {
      "cell_type": "code",
      "source": [
        "exchange_rates = get_exchange_rates()\n",
        "\n",
        "if detect_arbitrage(exchange_rates):\n",
        "    print(\"Arbitrage opportunity exists.\")\n",
        "else:\n",
        "    print(\"No arbitrage opportunity.\")"
      ],
      "metadata": {
        "colab": {
          "base_uri": "https://localhost:8080/"
        },
        "id": "AHMdZDqf0eJW",
        "outputId": "fae91f2d-4427-49cc-8971-0f0733d6ca25"
      },
      "execution_count": 11,
      "outputs": [
        {
          "output_type": "stream",
          "name": "stdout",
          "text": [
            "Enter the number of commodities: 3\n",
            "Enter the exchange rates matrix:\n",
            "1.0 2.0 0.5\n",
            "0.5 1.0 4.0\n",
            "2.0 0.5 1.0\n",
            "No arbitrage opportunity.\n"
          ]
        }
      ]
    },
    {
      "cell_type": "code",
      "source": [
        "exchange_rates = get_exchange_rates()\n",
        "\n",
        "\n",
        "if detect_arbitrage(exchange_rates):\n",
        "    print(\"Arbitrage opportunity exists.\")\n",
        "else:\n",
        "    print(\"No arbitrage opportunity.\")"
      ],
      "metadata": {
        "colab": {
          "base_uri": "https://localhost:8080/"
        },
        "id": "-woqlPgrXKDh",
        "outputId": "14cda5c8-5fc9-4a43-8ad9-a1e6f58798a3"
      },
      "execution_count": 16,
      "outputs": [
        {
          "output_type": "stream",
          "name": "stdout",
          "text": [
            "Enter the number of commodities: 3\n",
            "Enter the exchange rates matrix:\n",
            "1.0 2.0 0.5\n",
            "0.5 1.0 4.0\n",
            "2.0 0.25 0.9\n",
            "Arbitrage Opportunity Path:\n",
            "2 -> 0 -> 1 -> 2\n",
            "Arbitrage opportunity exists.\n"
          ]
        }
      ]
    },
    {
      "cell_type": "markdown",
      "source": [
        "**Analysis**\n"
      ],
      "metadata": {
        "id": "dZs9Pt9q5NQa"
      }
    },
    {
      "cell_type": "markdown",
      "source": [
        "**Time Complexity**"
      ],
      "metadata": {
        "id": "GCVlqGp95WnC"
      }
    },
    {
      "cell_type": "markdown",
      "source": [
        "The time complexity is **O(n^3)**, where n is the number of commodities.The nested loops iterate over all pairs of commodities, resulting in cubic time complexity.  "
      ],
      "metadata": {
        "id": "AhbJhERm51v6"
      }
    },
    {
      "cell_type": "markdown",
      "source": [
        "**Space Complexity**"
      ],
      "metadata": {
        "id": "kcz4e03n53oy"
      }
    },
    {
      "cell_type": "markdown",
      "source": [
        "The space complexity is **O(n)**, where n is the number of commodities. This is primarily due to the distances list, which keeps track of the minimum distances. The graph itself is not explicitly stored in the code."
      ],
      "metadata": {
        "id": "CNXYCwc658-S"
      }
    }
  ]
}