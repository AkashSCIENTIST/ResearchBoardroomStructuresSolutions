{
  "cells": [
    {
      "cell_type": "markdown",
      "metadata": {
        "id": "kcUsJ470mhZc"
      },
      "source": [
        "# Lothar Collatz Conjucture\n"
      ]
    },
    {
      "cell_type": "markdown",
      "metadata": {
        "id": "5ARp7_o652Mk"
      },
      "source": [
        "## Intuition 💡\n",
        "\n",
        "This question could be solved based on sieve of Eratosthenes, whose time complexity is O(n log log n). By using this, the problem could arrive at the solution using Dynamic Programming approach.\n",
        "\n",
        "f(n) = n/2   if n is even\n",
        "f(n) = 3*n+1 if n is odd"
      ]
    },
    {
      "cell_type": "markdown",
      "metadata": {
        "id": "z9Orezyf56Wn"
      },
      "source": [
        "## Progess Bar 🕡🕢🕣🕤🕥🕦🕧🕝🕠🕡\n",
        "tqdm library is used to display progress bar. It is installed and imported."
      ]
    },
    {
      "cell_type": "code",
      "execution_count": 1,
      "metadata": {
        "colab": {
          "base_uri": "https://localhost:8080/"
        },
        "id": "EfbzovLDL10d",
        "outputId": "431b6133-eaa6-4d0f-dfde-c195c375f701"
      },
      "outputs": [
        {
          "name": "stdout",
          "output_type": "stream",
          "text": [
            "Requirement already satisfied: tqdm in /usr/local/lib/python3.10/dist-packages (4.66.1)\n"
          ]
        }
      ],
      "source": [
        "!pip install tqdm"
      ]
    },
    {
      "cell_type": "code",
      "execution_count": 2,
      "metadata": {
        "id": "VFWw_aY9L87i"
      },
      "outputs": [],
      "source": [
        "#importing progress bar library\n",
        "from tqdm import tqdm"
      ]
    },
    {
      "cell_type": "markdown",
      "metadata": {},
      "source": [
        "Only 1st million numbers are used, due to constraint in availability of Memory"
      ]
    },
    {
      "cell_type": "code",
      "execution_count": 3,
      "metadata": {
        "id": "88OaN4aAL-5H"
      },
      "outputs": [],
      "source": [
        "upper_bound = 10**9 # first one million numbers as upper bound"
      ]
    },
    {
      "cell_type": "markdown",
      "metadata": {
        "id": "qSCyTdRi6F4S"
      },
      "source": [
        "## Actual Code 🧑‍💻👨‍💻👩‍💻"
      ]
    },
    {
      "cell_type": "markdown",
      "metadata": {
        "id": "jWZb-hVh47v0"
      },
      "source": [
        "Array is initialized to store status bits of every numbers. This makes ```Space Complexity as O(n)```"
      ]
    },
    {
      "cell_type": "markdown",
      "metadata": {
        "id": "T94CAnqc72F4"
      },
      "source": [
        "### Array initialization _*[⏹️⏹️⏹️⏹️...]*_"
      ]
    },
    {
      "cell_type": "code",
      "execution_count": 4,
      "metadata": {
        "colab": {
          "base_uri": "https://localhost:8080/"
        },
        "id": "5mAs_1CKMAPL",
        "outputId": "a7c69574-db10-450e-ae03-c4d29626fe78"
      },
      "outputs": [
        {
          "name": "stderr",
          "output_type": "stream",
          "text": [
            "100%|██████████| 1000000000/1000000000 [02:29<00:00, 6694420.74it/s]\n"
          ]
        }
      ],
      "source": [
        "values = [False for i in tqdm(range(upper_bound))] #initializing all status bits of numbers as false"
      ]
    },
    {
      "cell_type": "code",
      "execution_count": 5,
      "metadata": {
        "id": "sVrJteDzMBmV"
      },
      "outputs": [],
      "source": [
        "call_count = 0\n",
        "values[0] = True"
      ]
    },
    {
      "cell_type": "markdown",
      "metadata": {
        "id": "057Xzn-v3DWP"
      },
      "source": [
        "From Functional definition of algorithm, numbers in powers of two will have output term as half of its value. So those numbers ie {1,2,4,8,16,...} would have iterative series, hence those numbers are marked ```True```"
      ]
    },
    {
      "cell_type": "code",
      "execution_count": 6,
      "metadata": {
        "id": "n9sBZgnUMDWC"
      },
      "outputs": [],
      "source": [
        "i = 1\n",
        "while i <= upper_bound:\n",
        "  values[i-1] = True\n",
        "  i *= 2"
      ]
    },
    {
      "cell_type": "markdown",
      "metadata": {
        "id": "q_iospcy75pr"
      },
      "source": [
        "### Function definition _f(x)_"
      ]
    },
    {
      "cell_type": "markdown",
      "metadata": {
        "id": "qaCzO7vD3pw0"
      },
      "source": [
        "Coeblock for Ci function is defined. If input is odd, then its output will one more than three times of input. So there are chanves that required output may exist beyond choosen set of first ```n``` Natural numbers. In such cases, the series would go incomplete and the correspoding calling funtion's values are marked false"
      ]
    },
    {
      "cell_type": "code",
      "execution_count": 7,
      "metadata": {
        "id": "NcIN2gPSMH9E"
      },
      "outputs": [],
      "source": [
        "def Ci(n):\n",
        "    global call_count\n",
        "    if n > upper_bound: # for odd numbers, there is a possibility that value called goes beyond \"fixed\" upper bound\n",
        "      return False\n",
        "    if values[n-1]: # if the series for the number is already calculated\n",
        "        return True\n",
        "    call_count += 1\n",
        "    r = 0\n",
        "    if n&1 == 0: # check for even number\n",
        "        r = n//2\n",
        "    else:\n",
        "        r = 3*n + 1\n",
        "    values[n-1] = True and Ci(r) # True iff series' all members are within upper bound\n",
        "    return values[n-1]"
      ]
    },
    {
      "cell_type": "markdown",
      "metadata": {
        "id": "NFbk9SKQ78Z6"
      },
      "source": [
        "### Function execution _f(x) ⚒️_"
      ]
    },
    {
      "cell_type": "markdown",
      "metadata": {
        "id": "y9IwbLvz4TCe"
      },
      "source": [
        "The below codeblock runs Ci function for every values. It may seems to process all values. The values whose status is found by any recursive call before actual call from for loop wont be processed. <code>This is makes the time complexity is lesser than or equal to O(n<sup>2</sup>).</code>"
      ]
    },
    {
      "cell_type": "code",
      "execution_count": 8,
      "metadata": {
        "colab": {
          "base_uri": "https://localhost:8080/"
        },
        "id": "Y25asNznMJlc",
        "outputId": "9591d2a3-ee49-40fa-f8d4-5b1c2b14b56b"
      },
      "outputs": [
        {
          "name": "stderr",
          "output_type": "stream",
          "text": [
            "100%|██████████| 999999999/999999999 [29:17<00:00, 568861.79it/s]\n"
          ]
        }
      ],
      "source": [
        "for i in tqdm(range(1,upper_bound)):\n",
        "    #print(values[i-1])\n",
        "    if not values[i-1]:\n",
        "        values[i-1] = Ci(i)\n",
        "        #print()"
      ]
    },
    {
      "cell_type": "code",
      "execution_count": 12,
      "metadata": {
        "id": "tM7CBL8Y9mbj"
      },
      "outputs": [],
      "source": [
        "values[upper_bound-1] = Ci(upper_bound)"
      ]
    },
    {
      "cell_type": "markdown",
      "metadata": {
        "id": "dizx4Jce6Im6"
      },
      "source": [
        "## Analysis 🧐"
      ]
    },
    {
      "cell_type": "markdown",
      "metadata": {
        "id": "GnUFhRBf6LYw"
      },
      "source": [
        "### Feasibility ⚗️\n",
        "\n",
        "For any value of ```n```, only 40% of series values are within the finite values. ```To prove the algorithm, we need infinite set of numbers, which is computationally infeasible.``` This makes the proof as a ```NP Hard``` problem."
      ]
    },
    {
      "cell_type": "code",
      "execution_count": 13,
      "metadata": {
        "colab": {
          "base_uri": "https://localhost:8080/"
        },
        "id": "4VC0fYkDNUnC",
        "outputId": "2eba46e1-0628-4198-dfe9-f299e3dfff07"
      },
      "outputs": [
        {
          "data": {
            "text/plain": [
              "60.45637"
            ]
          },
          "execution_count": 13,
          "metadata": {},
          "output_type": "execute_result"
        }
      ],
      "source": [
        "values.count(False) * 100 / len(values)"
      ]
    },
    {
      "cell_type": "markdown",
      "metadata": {
        "id": "qY5b_h-t6lyl"
      },
      "source": [
        "### Time Complexity ⌛"
      ]
    },
    {
      "cell_type": "code",
      "execution_count": 14,
      "metadata": {
        "colab": {
          "base_uri": "https://localhost:8080/"
        },
        "id": "xWkvJVoBYxfJ",
        "outputId": "57afac65-6cb1-45d0-a237-aa9c6fcb62d0"
      },
      "outputs": [
        {
          "data": {
            "text/plain": [
              "3402631782"
            ]
          },
          "execution_count": 14,
          "metadata": {},
          "output_type": "execute_result"
        }
      ],
      "source": [
        "call_count"
      ]
    },
    {
      "cell_type": "code",
      "execution_count": 29,
      "metadata": {
        "colab": {
          "base_uri": "https://localhost:8080/"
        },
        "id": "kLyZEl5N7AGX",
        "outputId": "22063e6d-3345-400c-a9c4-a47b7a1d569b"
      },
      "outputs": [
        {
          "name": "stdout",
          "output_type": "stream",
          "text": [
            "n log n 20723265836.94641\n",
            "n log log n 3031257022.584175\n",
            "3.4 n 3400000000.0\n"
          ]
        }
      ],
      "source": [
        "from math import log\n",
        "n = upper_bound\n",
        "print(\"n log n\", n * log(n))\n",
        "print(\"n log log n\", n * log(log(n)))\n",
        "print(\"3.4 n\", 3.4 * n)"
      ]
    },
    {
      "cell_type": "markdown",
      "metadata": {
        "id": "ioH7cKEOA6Au"
      },
      "source": [
        "Total possible function calls of 3.4n is very cloose to actual number of function calls. So <code> Time Complexity is O(n<sup>2</sup>) </code>"
      ]
    },
    {
      "cell_type": "markdown",
      "metadata": {
        "id": "zZBi2lW-6seN"
      },
      "source": [
        "### Space Complexity 🗃️"
      ]
    },
    {
      "cell_type": "markdown",
      "metadata": {
        "id": "DOaQkljz6wja"
      },
      "source": [
        "As discussed above, ```Space complexity is O(n)```"
      ]
    }
  ],
  "metadata": {
    "colab": {
      "collapsed_sections": [
        "z9Orezyf56Wn",
        "T94CAnqc72F4",
        "q_iospcy75pr"
      ],
      "provenance": []
    },
    "kernelspec": {
      "display_name": "Python 3",
      "name": "python3"
    },
    "language_info": {
      "name": "python"
    }
  },
  "nbformat": 4,
  "nbformat_minor": 0
}
